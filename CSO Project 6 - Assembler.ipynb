{
 "cells": [
  {
   "cell_type": "markdown",
   "metadata": {},
   "source": [
    "# Assembler"
   ]
  },
  {
   "cell_type": "markdown",
   "metadata": {},
   "source": [
    "Open the .asm file to be read and save each line as an element in a list."
   ]
  },
  {
   "cell_type": "code",
   "execution_count": 1,
   "metadata": {
    "collapsed": true
   },
   "outputs": [],
   "source": [
    "fin = open(\"Desktop/nand2tetris/projects/06/pong/Pong.asm\")\n",
    "asm = fin.readlines()\n",
    "fin.close()"
   ]
  },
  {
   "cell_type": "markdown",
   "metadata": {},
   "source": [
    "If the line is long enough (not an empty line) and if the whole line is not a comment, add the line to a separate list with the white space stripped off."
   ]
  },
  {
   "cell_type": "code",
   "execution_count": 2,
   "metadata": {
    "collapsed": true
   },
   "outputs": [],
   "source": [
    "stripped = []\n",
    "for line in asm:\n",
    "    if len(line) > 2 and line[:2] != \"//\":\n",
    "        stripped.append(line.strip())"
   ]
  },
  {
   "cell_type": "markdown",
   "metadata": {},
   "source": [
    "Create the symbols table as a dictionary with the pre-defined symbols."
   ]
  },
  {
   "cell_type": "code",
   "execution_count": 3,
   "metadata": {
    "collapsed": false
   },
   "outputs": [],
   "source": [
    "symbols = {\"SP\": 0, \"LCL\": 1, \"ARG\": 2, \"THIS\": 3, \"THAT\": 4, \"R0\": 0, \"R1\": 1, \"R2\": 2, \"R3\": 3, \"R4\": 4, \"R5\": 5, \"R6\": 6, \"R7\": 7, \"R8\": 8, \"R9\": 9, \"R10\": 10, \"R11\": 11, \"R12\": 12, \"R13\": 13, \"R14\": 14, \"R15\": 15, \"SCREEN\": 16384, \"KBD\": 24576}"
   ]
  },
  {
   "cell_type": "markdown",
   "metadata": {},
   "source": [
    "If there is a comment (\"//\") later in a line, we wish to omit everything in the line that comes after the comment. We would also like to add all of the labels (first character \"(\", last character \")\") and include these in the symbol table with the corresponding line number. Once the label lines are added to the symbols dictionary, we wish to delete these lines from our list.\n",
    "\n",
    "It seems that the following loop has trouble executing sometimes. It will at first produce an IndexError (\"list index out of range\" on line 2), but after running it a few more times (without changing anything), it seems to work alright. The cause of this oddity is unknown."
   ]
  },
  {
   "cell_type": "code",
   "execution_count": 7,
   "metadata": {
    "collapsed": false
   },
   "outputs": [],
   "source": [
    "for i in range(len(stripped)):\n",
    "    commentindex = stripped[i].find(\"//\")\n",
    "    if commentindex != -1:\n",
    "        stripped[i] = stripped[i][:commentindex]\n",
    "    if stripped[i][0] == \"(\" and stripped[i][-1] == \")\":\n",
    "        symbols[stripped[i][1:-1]] = i\n",
    "        stripped.pop(i)"
   ]
  },
  {
   "cell_type": "markdown",
   "metadata": {},
   "source": [
    "We classify each line as either an A-instruction (if the first character of the line is \"@\") or a C-instruction (all other lines). Each line then goes into the appropriate dictionary. Because of how comments that occured later in lines were removed, we need to strip white space again."
   ]
  },
  {
   "cell_type": "code",
   "execution_count": 8,
   "metadata": {
    "collapsed": false
   },
   "outputs": [],
   "source": [
    "ainstr = {}\n",
    "cinstr = {}\n",
    "for i in range(len(stripped)):\n",
    "    stripped[i] = stripped[i].strip()\n",
    "    if stripped[i][0] == \"@\":\n",
    "        ainstr[i] = stripped[i]\n",
    "    elif stripped[i][0] != \"@\":\n",
    "        cinstr[i] = stripped[i]"
   ]
  },
  {
   "cell_type": "markdown",
   "metadata": {},
   "source": [
    "Create dictionaries for comp, dest, and jump based on the given tables."
   ]
  },
  {
   "cell_type": "code",
   "execution_count": 9,
   "metadata": {
    "collapsed": true
   },
   "outputs": [],
   "source": [
    "comp = {\"0\": \"0101010\", \"1\": \"0111111\", \"-1\": \"0111010\", \"D\": \"0001100\", \"A\": \"0110000\", \"!D\": \"0001101\", \"!A\": \"0110001\", \"-D\": \"0001111\", \"-A\": \"0110011\", \"D+1\":\"0011111\", \"A+1\": \"0110111\", \"D-1\": \"0001110\", \"A-1\": \"0110010\", \"D+A\": \"0000010\", \"D-A\": \"0010011\", \"A-D\": \"0000111\", \"D&A\": \"0000000\", \"D|A\": \"0010101\", \"M\": \"1110000\", \"!M\": \"1110001\", \"-M\": \"1110011\", \"M+1\": \"1110111\", \"M-1\": \"1110010\", \"D+M\": \"1000010\", \"D-M\": \"1010011\", \"M-D\": \"1000111\", \"D&M\": \"1000000\", \"D|M\": \"1010101\"}\n",
    "dest = {\"null\": \"000\", \"M\": \"001\", \"D\": \"010\", \"MD\": \"011\", \"A\": \"100\", \"AM\": \"101\", \"AD\": \"110\", \"AMD\": \"111\"}\n",
    "jump = {\"null\": \"000\", \"JGT\": \"001\", \"JEQ\": \"010\", \"JGE\": \"011\", \"JLT\": \"100\", \"JNE\": \"101\", \"JLE\": \"110\", \"JMP\": \"111\"}"
   ]
  },
  {
   "cell_type": "markdown",
   "metadata": {},
   "source": [
    "First, we create a list of tuples of the format (*line number*, *line of machine language*) so that we can maintain a specific order of lines.\n",
    "\n",
    "If a line is an A-instruction, we check to see if it exists as a key in the symbols table. If so, we convert the value in the dictionary to binary and append this converted line to our list of tuples, along with its corresponding line number. Otherwise, if the line is an A-instruction but only an integer, we simply convert this integer to binary and proceed similarly.\n",
    "\n",
    "If a line is a C-instruction, we distinguish whether it has an equals sign or a semicolon. If it has an equals sign, then we consider the jump field to be \"null\". Likewise, if it has a semicolon, then we consider the dest field to be \"null\". We then string together the components of the C-instruction in the appropriate order to produce the correct line of machine language, which is then appended to the list of tuples.\n",
    "\n",
    "Method for converting integer into binary with leading zeroes (\"{0:016b}\") taken from Stack Overflow solution here: https://stackoverflow.com/questions/10411085/converting-integer-to-binary-in-python"
   ]
  },
  {
   "cell_type": "code",
   "execution_count": 10,
   "metadata": {
    "collapsed": false
   },
   "outputs": [],
   "source": [
    "hack = []\n",
    "for i in range(len(stripped)):\n",
    "    if i in ainstr.keys():\n",
    "        if stripped[i][1:] in symbols.keys():\n",
    "            hack.append((i, \"{0:016b}\".format(symbols[stripped[i][1:]])))\n",
    "        elif stripped[i][1:].isdigit():\n",
    "            hack.append((i, \"{0:016b}\".format(int(stripped[i][1:]))))\n",
    "    elif i in cinstr.keys():\n",
    "        eqind = stripped[i].find(\"=\")\n",
    "        scind = stripped[i].find(\";\")\n",
    "        if eqind != -1 and scind == -1:\n",
    "            hack.append((i, \"111\" + comp[stripped[i][eqind + 1:]] + dest[stripped[i][:eqind]] + jump[\"null\"]))\n",
    "        if scind != -1 and eqind == -1:\n",
    "            hack.append((i, \"111\" + comp[stripped[i][:scind]] + dest[\"null\"] + jump[stripped[i][scind + 1:]]))"
   ]
  },
  {
   "cell_type": "markdown",
   "metadata": {},
   "source": [
    "Now that we have a list of each line of machine language in order, we want to create a file with only the lines of machine language (without the line numbers), so we iterate through the list of tuples and write only the second element of each tuple to a file, along with a newline character after each line.\n",
    "\n",
    "Refresher for writing files found here: https://learnpythonthehardway.org/book/ex16.html"
   ]
  },
  {
   "cell_type": "code",
   "execution_count": 13,
   "metadata": {
    "collapsed": false
   },
   "outputs": [],
   "source": [
    "target = open(\"test.hack\", \"w\")\n",
    "target.truncate()\n",
    "for line in hack:\n",
    "    target.write(str(line[0]) + \" \" + line[1] + \"\\n\")\n",
    "target.close()"
   ]
  },
  {
   "cell_type": "code",
   "execution_count": null,
   "metadata": {
    "collapsed": true
   },
   "outputs": [],
   "source": []
  }
 ],
 "metadata": {
  "anaconda-cloud": {},
  "kernelspec": {
   "display_name": "Python [Root]",
   "language": "python",
   "name": "Python [Root]"
  },
  "language_info": {
   "codemirror_mode": {
    "name": "ipython",
    "version": 3
   },
   "file_extension": ".py",
   "mimetype": "text/x-python",
   "name": "python",
   "nbconvert_exporter": "python",
   "pygments_lexer": "ipython3",
   "version": "3.5.2"
  }
 },
 "nbformat": 4,
 "nbformat_minor": 0
}
